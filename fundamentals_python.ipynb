{
 "cells": [
  {
   "cell_type": "markdown",
   "metadata": {
    "vscode": {
     "languageId": "plaintext"
    }
   },
   "source": [
    "# Fundamentos de python\n",
    "\n",
    "* variables\n",
    "* Operadores matemativos\n",
    "* Operadores logicos\n",
    "* Operadores Compraracion\n",
    "* Estructura de control\n",
    "    - Condicionales\n",
    "    - Ciclos infinitos:  while\n",
    "    - Ciclos finitos: for\n",
    "    - Funciones\n",
    "* Estructuras de datos\n",
    "    - Cadenas de caracteres\n",
    "    - Numero enteros\n",
    "    - Numero decimales\n",
    "    - Listas\n",
    "    - Tuplas\n",
    "    - Diccionarios\n",
    "    \n"
   ]
  },
  {
   "cell_type": "code",
   "execution_count": 1,
   "metadata": {},
   "outputs": [
    {
     "name": "stdout",
     "output_type": "stream",
     "text": [
      "hola mundo\n"
     ]
    }
   ],
   "source": [
    "\n",
    "print(\"hola mundo\")"
   ]
  },
  {
   "cell_type": "code",
   "execution_count": 2,
   "metadata": {},
   "outputs": [],
   "source": [
    "# VARIABLES\n",
    "\n",
    "name = \"Juan\"\n",
    "age = 23\n",
    "last_name = \"Perez\"\n"
   ]
  },
  {
   "cell_type": "code",
   "execution_count": 3,
   "metadata": {},
   "outputs": [],
   "source": [
    "# molas practicas\n",
    "\n",
    "LastName = \"Perez\"\n"
   ]
  },
  {
   "cell_type": "code",
   "execution_count": 4,
   "metadata": {},
   "outputs": [],
   "source": [
    "# operadores mateaticos\n",
    "number_1 = 10\n",
    "number_2 = 5"
   ]
  },
  {
   "cell_type": "code",
   "execution_count": 5,
   "metadata": {},
   "outputs": [],
   "source": [
    "# suma\n",
    "result = number_1 + number_2\n"
   ]
  },
  {
   "cell_type": "code",
   "execution_count": 6,
   "metadata": {},
   "outputs": [
    {
     "name": "stdout",
     "output_type": "stream",
     "text": [
      "15\n"
     ]
    }
   ],
   "source": [
    "print(result)"
   ]
  },
  {
   "cell_type": "code",
   "execution_count": 7,
   "metadata": {},
   "outputs": [],
   "source": [
    "#resta\n",
    "result_sub = number_1 - number_2\n"
   ]
  },
  {
   "cell_type": "code",
   "execution_count": 8,
   "metadata": {},
   "outputs": [],
   "source": [
    "# multiplicacion\n",
    "result_mult = number_1 * number_2\n",
    "\n",
    "# division\n",
    "result_div = number_1 / number_2\n",
    "\n"
   ]
  },
  {
   "cell_type": "code",
   "execution_count": 9,
   "metadata": {},
   "outputs": [
    {
     "data": {
      "text/plain": [
       "float"
      ]
     },
     "execution_count": 9,
     "metadata": {},
     "output_type": "execute_result"
    }
   ],
   "source": [
    "type(result_div)\n"
   ]
  },
  {
   "cell_type": "code",
   "execution_count": 10,
   "metadata": {},
   "outputs": [],
   "source": [
    "# operadores de comparacion\n",
    "\n",
    "#  == igual\n",
    "#  != diferente\n",
    "#  < menor que\n",
    "#  > mayor que\n",
    "#  <= menor o igual que\n",
    "#  >= mayor o igual que\n",
    "\n",
    "\n",
    "# operadores logicos\n",
    "\n",
    "# and\n",
    "# or\n",
    "# not"
   ]
  },
  {
   "cell_type": "code",
   "execution_count": 11,
   "metadata": {},
   "outputs": [],
   "source": [
    "# operadores booleanos\n",
    "\n",
    "# True\n",
    "# False\n"
   ]
  },
  {
   "cell_type": "code",
   "execution_count": 12,
   "metadata": {},
   "outputs": [
    {
     "data": {
      "text/plain": [
       "True"
      ]
     },
     "execution_count": 12,
     "metadata": {},
     "output_type": "execute_result"
    }
   ],
   "source": [
    "# ejemplo\n",
    "\n",
    "2 == 2"
   ]
  },
  {
   "cell_type": "code",
   "execution_count": 13,
   "metadata": {},
   "outputs": [
    {
     "name": "stdout",
     "output_type": "stream",
     "text": [
      "el numero 1: \"10\" es mayor que el numero 2: 5\n"
     ]
    }
   ],
   "source": [
    "# condenciales\n",
    "number_1 = 10\n",
    "number_2 = 5\n",
    "if number_1 > number_2:\n",
    "    print(f'el numero 1: \"{number_1}\" es mayor que el numero 2: {number_2}')\n",
    "\n",
    "elif number_1 == number_2:\n",
    "    print(f\"el numero 1: {number_1} es igual que el numero 2: {number_2}\")\n",
    "    \n",
    "else:\n",
    "    print(f\"el numero 1: {number_1} es menor que el numero 2: {number_2}\")\n",
    "    "
   ]
  },
  {
   "cell_type": "code",
   "execution_count": 14,
   "metadata": {},
   "outputs": [
    {
     "ename": "NameError",
     "evalue": "name 'jugador' is not defined",
     "output_type": "error",
     "traceback": [
      "\u001b[1;31m---------------------------------------------------------------------------\u001b[0m",
      "\u001b[1;31mNameError\u001b[0m                                 Traceback (most recent call last)",
      "Cell \u001b[1;32mIn[14], line 12\u001b[0m\n\u001b[0;32m      8\u001b[0m opcion_jugador_2 \u001b[38;5;241m=\u001b[39m \u001b[38;5;28minput\u001b[39m(\u001b[38;5;124m\"\u001b[39m\u001b[38;5;124mElige: piedra, papel o tijera: \u001b[39m\u001b[38;5;124m\"\u001b[39m)\u001b[38;5;241m.\u001b[39mlower()\n\u001b[0;32m     11\u001b[0m \u001b[38;5;66;03m# Cadena de condicionales para determinar el resultado\u001b[39;00m\n\u001b[1;32m---> 12\u001b[0m \u001b[38;5;28;01mif\u001b[39;00m \u001b[43mjugador\u001b[49m \u001b[38;5;129;01mnot\u001b[39;00m \u001b[38;5;129;01min\u001b[39;00m [\u001b[38;5;124m\"\u001b[39m\u001b[38;5;124mpiedra\u001b[39m\u001b[38;5;124m\"\u001b[39m, \u001b[38;5;124m\"\u001b[39m\u001b[38;5;124mpapel\u001b[39m\u001b[38;5;124m\"\u001b[39m, \u001b[38;5;124m\"\u001b[39m\u001b[38;5;124mtijera\u001b[39m\u001b[38;5;124m\"\u001b[39m]:\n\u001b[0;32m     13\u001b[0m     \u001b[38;5;28mprint\u001b[39m(\u001b[38;5;124m\"\u001b[39m\u001b[38;5;124mElección inválida\u001b[39m\u001b[38;5;124m\"\u001b[39m)\n\u001b[0;32m     14\u001b[0m \u001b[38;5;28;01melif\u001b[39;00m jugador \u001b[38;5;241m==\u001b[39m computadora:\n",
      "\u001b[1;31mNameError\u001b[0m: name 'jugador' is not defined"
     ]
    }
   ],
   "source": [
    "# juego de piedra papel o tijera\n",
    "\n",
    "name_jugador_1 = input(\"ingresa tu nombre: \")\n",
    "\n",
    "opcion_jugador_1 = input(\"Elige: piedra, papel o tijera: \").lower()\n",
    "\n",
    "name_jugador_2 = input(\"ingresa tu nombre: \")\n",
    "opcion_jugador_2 = input(\"Elige: piedra, papel o tijera: \").lower()\n",
    "\n",
    "\n",
    "# Cadena de condicionales para determinar el resultado\n",
    "if jugador not in [\"piedra\", \"papel\", \"tijera\"]:\n",
    "    print(\"Elección inválida\")\n",
    "elif jugador == computadora:\n",
    "    print(f\"Empate! Ambos eligieron {jugador}\")\n",
    "else:\n",
    "    if jugador == \"piedra\":\n",
    "        if computadora == \"tijera\":\n",
    "            print(\"¡Ganaste! Piedra rompe tijera\")\n",
    "        else:\n",
    "            print(\"¡Perdiste! Papel cubre piedra\")\n",
    "    elif jugador == \"papel\":\n",
    "        if computadora == \"piedra\":\n",
    "            print(\"¡Ganaste! Papel cubre piedra\")\n",
    "        else:\n",
    "            print(\"¡Perdiste! Tijera corta papel\")\n",
    "    elif jugador == \"tijera\":\n",
    "        if computadora == \"papel\":\n",
    "            print(\"¡Ganaste! Tijera corta papel\")\n",
    "        else:\n",
    "            print(\"¡Perdiste! Piedra rompe tijera\")"
   ]
  },
  {
   "cell_type": "markdown",
   "metadata": {},
   "source": [
    "### Estructura de datos "
   ]
  },
  {
   "cell_type": "code",
   "execution_count": 16,
   "metadata": {},
   "outputs": [
    {
     "data": {
      "text/plain": [
       "'Juan'"
      ]
     },
     "execution_count": 16,
     "metadata": {},
     "output_type": "execute_result"
    }
   ],
   "source": [
    "# listas\n",
    "\n",
    "list_names = [\"Juan\", \"Pedro\", \"Maria\", \"Luis\", \"Ana\"]\n",
    "list_names[0]"
   ]
  },
  {
   "cell_type": "code",
   "execution_count": null,
   "metadata": {},
   "outputs": [],
   "source": []
  }
 ],
 "metadata": {
  "kernelspec": {
   "display_name": "Python 3",
   "language": "python",
   "name": "python3"
  },
  "language_info": {
   "codemirror_mode": {
    "name": "ipython",
    "version": 3
   },
   "file_extension": ".py",
   "mimetype": "text/x-python",
   "name": "python",
   "nbconvert_exporter": "python",
   "pygments_lexer": "ipython3",
   "version": "3.13.0"
  }
 },
 "nbformat": 4,
 "nbformat_minor": 2
}
